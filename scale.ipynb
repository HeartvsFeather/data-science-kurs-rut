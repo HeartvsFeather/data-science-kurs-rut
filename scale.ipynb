{
 "cells": [
  {
   "cell_type": "markdown",
   "id": "53f752b2-75cb-4c11-9f1d-c9c7f567e17e",
   "metadata": {},
   "source": [
    "<b><u>Scale</u></b>"
   ]
  },
  {
   "cell_type": "markdown",
   "id": "0891d704-25cd-4cdc-be47-292cf079a43e",
   "metadata": {},
   "source": [
    "Перевод массива величин от одной шкалы к другой шкале измерения"
   ]
  },
  {
   "cell_type": "code",
   "execution_count": null,
   "id": "37780c2b-8b18-448d-a220-b32a60cc149a",
   "metadata": {},
   "outputs": [],
   "source": [
    "x = [1, 2, -10, 12, 5, 7] # исходная шкала с данными\n",
    "y = [] # целевая шкала\n",
    "x_n = len(x)\n",
    "# границы исходной шкалы\n",
    "x_min = min(x)\n",
    "x_max = max(x)\n",
    "# границы целевой шкалы\n",
    "y_min = 0\n",
    "y_max = 1\n"
   ]
  },
  {
   "cell_type": "markdown",
   "id": "a7e8860e-8a87-41f4-a9bc-f1b1742b12f7",
   "metadata": {},
   "source": [
    "Расчет"
   ]
  },
  {
   "cell_type": "code",
   "execution_count": null,
   "id": "1a07a374-9db1-4a0e-b16f-d06ac17f32d7",
   "metadata": {},
   "outputs": [],
   "source": [
    "for i in range(x_n):\n",
    "    temp = (y_max - y_min)/(x_max - x_min)\n",
    "    y.append(temp * x[i] + y_min - temp * x_min)"
   ]
  },
  {
   "cell_type": "markdown",
   "id": "a1016fe4-643e-40c4-a10c-5ae0528174e5",
   "metadata": {},
   "source": [
    "Выведем результат"
   ]
  },
  {
   "cell_type": "code",
   "execution_count": null,
   "id": "bb9df6b0-70b4-4cc8-9609-10ca15e9a000",
   "metadata": {},
   "outputs": [],
   "source": [
    "print(y)"
   ]
  },
  {
   "cell_type": "markdown",
   "id": "8428a11c-b9c9-48e7-b5a1-321150b4d11f",
   "metadata": {},
   "source": [
    "Есть встроенная библиотека для интерполяции"
   ]
  },
  {
   "cell_type": "code",
   "execution_count": null,
   "id": "40d6e10f-48b7-4910-8a33-d18746b17bbe",
   "metadata": {
    "scrolled": true
   },
   "outputs": [],
   "source": [
    "import scipy.interpolate as interp\n",
    "x = [1, 2, 6]\n",
    "y = [1, 2, 5]\n",
    "y_interp = interp.interp1d(x, y)\n",
    "print(y_interp(1))"
   ]
  }
 ],
 "metadata": {
  "kernelspec": {
   "display_name": "Python 3 (ipykernel)",
   "language": "python",
   "name": "python3"
  },
  "language_info": {
   "codemirror_mode": {
    "name": "ipython",
    "version": 3
   },
   "file_extension": ".py",
   "mimetype": "text/x-python",
   "name": "python",
   "nbconvert_exporter": "python",
   "pygments_lexer": "ipython3",
   "version": "3.12.4"
  }
 },
 "nbformat": 4,
 "nbformat_minor": 5
}
