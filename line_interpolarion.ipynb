{
 "cells": [
  {
   "cell_type": "markdown",
   "id": "98d824a6-a929-482f-aac8-f9bcfcee4f4f",
   "metadata": {},
   "source": [
    "<u><b>Линейная интерполяция</b></u>"
   ]
  },
  {
   "cell_type": "markdown",
   "id": "2b62a72e-e8a1-46c4-a0ab-f30fec985929",
   "metadata": {},
   "source": [
    "Загрузка библиотек"
   ]
  },
  {
   "cell_type": "code",
   "execution_count": null,
   "id": "8f0e0845-7eb7-425f-8c36-38694d196ebd",
   "metadata": {},
   "outputs": [],
   "source": [
    "%matplotlib qt\n",
    "import matplotlib.pyplot as plt\n",
    "import time"
   ]
  },
  {
   "cell_type": "markdown",
   "id": "f648df1f-6274-4c3f-8b87-16a7459e0626",
   "metadata": {},
   "source": [
    "Исходные данные для линейной интерполяции"
   ]
  },
  {
   "cell_type": "code",
   "execution_count": null,
   "id": "7c4f2d46-8fa6-42bc-ac3f-25fd159f67dd",
   "metadata": {},
   "outputs": [],
   "source": [
    "x = [1, 2, 3, 4, 5, 6, 9]\n",
    "y = [3, 2, -1, 2, 4, -5, 10]"
   ]
  },
  {
   "cell_type": "code",
   "execution_count": null,
   "id": "1109d7e9-822a-403a-ad28-745a1b1664ab",
   "metadata": {},
   "outputs": [],
   "source": [
    "#plt.plot(x, y, \"ob\")"
   ]
  },
  {
   "cell_type": "code",
   "execution_count": null,
   "id": "5f1b4297-d0a7-42b9-b96d-d3488375263b",
   "metadata": {},
   "outputs": [],
   "source": [
    "z = int(input(f\"Номер интерполируемого интервала от 1 до {str(len(x) - 1)}:\"))\n",
    "nn = int(input(\"Кол-во точек интерполяции (натур): \"))"
   ]
  },
  {
   "cell_type": "markdown",
   "id": "cc2b93b1-062a-4271-bb0e-b740b6796178",
   "metadata": {},
   "source": [
    "Расчеты"
   ]
  },
  {
   "cell_type": "code",
   "execution_count": null,
   "id": "f1042265-da3f-4e2d-88d2-c414c1684b45",
   "metadata": {},
   "outputs": [],
   "source": [
    "xx = [0] * nn\n",
    "yy = [0] * nn\n",
    "for i in range(nn):\n",
    "    xx[i] = (x[z] - x[z-1])/nn * i + x[z-1]\n",
    "    yy[i] = (y[z] - y[z-1])/(x[z] - x[z-1]) * xx[i] + y[z-1] - (y[z] - y[z-1])/(x[z] - x[z-1]) * x[z-1]\n",
    "#вывод результатов\n",
    "print(xx)\n",
    "print(yy)\n",
    "#вывод интерактивного графика с анимацией\n",
    "plt.ion()\n",
    "fig, ax = plt.subplots()\n",
    "for i in range(0, nn):\n",
    "    plt.clf()\n",
    "    plt.plot(x, y, \"-ob\")\n",
    "    plt.plot(xx[i], yy[i], \"ro\")\n",
    "    fig.canvas.draw()\n",
    "    fig.canvas.flush_events()\n",
    "    time.sleep(0.5)\n",
    "plt.ioff()\n",
    "plt.show()"
   ]
  }
 ],
 "metadata": {
  "kernelspec": {
   "display_name": "Python 3 (ipykernel)",
   "language": "python",
   "name": "python3"
  },
  "language_info": {
   "codemirror_mode": {
    "name": "ipython",
    "version": 3
   },
   "file_extension": ".py",
   "mimetype": "text/x-python",
   "name": "python",
   "nbconvert_exporter": "python",
   "pygments_lexer": "ipython3",
   "version": "3.12.4"
  }
 },
 "nbformat": 4,
 "nbformat_minor": 5
}
