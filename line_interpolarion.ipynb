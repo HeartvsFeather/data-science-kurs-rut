{
 "cells": [
  {
   "cell_type": "markdown",
   "id": "98d824a6-a929-482f-aac8-f9bcfcee4f4f",
   "metadata": {},
   "source": [
    "<u><b>Линейная интерполяция</b></u>"
   ]
  },
  {
   "cell_type": "markdown",
   "id": "2b62a72e-e8a1-46c4-a0ab-f30fec985929",
   "metadata": {},
   "source": [
    "Загрузка библиотек"
   ]
  },
  {
   "cell_type": "code",
   "execution_count": 6,
   "id": "8f0e0845-7eb7-425f-8c36-38694d196ebd",
   "metadata": {},
   "outputs": [],
   "source": [
    "%matplotlib qt\n",
    "import matplotlib.pyplot as plt\n",
    "import time"
   ]
  },
  {
   "cell_type": "markdown",
   "id": "f648df1f-6274-4c3f-8b87-16a7459e0626",
   "metadata": {},
   "source": [
    "Исходные данные для линейной интерполяции"
   ]
  },
  {
   "cell_type": "code",
   "execution_count": 7,
   "id": "7c4f2d46-8fa6-42bc-ac3f-25fd159f67dd",
   "metadata": {},
   "outputs": [],
   "source": [
    "x = [1, 2, 3, 4, 5]\n",
    "y = [3, 2, -1, 2, 4]"
   ]
  },
  {
   "cell_type": "code",
   "execution_count": 8,
   "id": "1109d7e9-822a-403a-ad28-745a1b1664ab",
   "metadata": {},
   "outputs": [],
   "source": [
    "#plt.plot(x, y, \"ob\")"
   ]
  },
  {
   "cell_type": "code",
   "execution_count": 9,
   "id": "5f1b4297-d0a7-42b9-b96d-d3488375263b",
   "metadata": {},
   "outputs": [
    {
     "name": "stdin",
     "output_type": "stream",
     "text": [
      "Номер интерполируемого интервала от 1 до 4:  4\n",
      "Кол-во точек интерполяции (натур):  20\n"
     ]
    }
   ],
   "source": [
    "tx = \"Номер интерполируемого интервала от 1 до \" + str(len(x) - 1) + \": \"\n",
    "z = int(input(tx))\n",
    "nn = int(input(\"Кол-во точек интерполяции (натур): \"))"
   ]
  },
  {
   "cell_type": "markdown",
   "id": "cc2b93b1-062a-4271-bb0e-b740b6796178",
   "metadata": {},
   "source": [
    "Расчеты"
   ]
  },
  {
   "cell_type": "code",
   "execution_count": 10,
   "id": "27a463bc-2ad5-4a27-a8c2-78bedac352e5",
   "metadata": {},
   "outputs": [
    {
     "name": "stdout",
     "output_type": "stream",
     "text": [
      "[4.0, 4.05, 4.1, 4.15, 4.2, 4.25, 4.3, 4.35, 4.4, 4.45, 4.5, 4.55, 4.6, 4.65, 4.7, 4.75, 4.8, 4.85, 4.9, 4.95]\n",
      "[2.0, 2.0999999999999996, 2.1999999999999993, 2.3000000000000007, 2.4000000000000004, 2.5, 2.5999999999999996, 2.6999999999999993, 2.8000000000000007, 2.9000000000000004, 3.0, 3.0999999999999996, 3.1999999999999993, 3.3000000000000007, 3.4000000000000004, 3.5, 3.5999999999999996, 3.6999999999999993, 3.8000000000000007, 3.9000000000000004]\n"
     ]
    }
   ],
   "source": [
    "xx = [0] * nn\n",
    "yy = [0] * nn\n",
    "for i in range(nn):\n",
    "    xx[i] = (x[z] - x[z-1])/nn * i + x[z-1]\n",
    "    yy[i] = (y[z] - y[z-1])/(x[z] - x[z-1]) * xx[i] + y[z-1] - (y[z] - y[z-1])/(x[z] - x[z-1]) * x[z-1]\n",
    "#вывод результатов\n",
    "print(xx)\n",
    "print(yy)\n",
    "#вывод интерактивного графика с анимацией\n",
    "plt.ion()\n",
    "fig, ax = plt.subplots()\n",
    "for i in range(0, nn):\n",
    "    plt.clf()\n",
    "    plt.plot(x, y, \"-ob\")\n",
    "    plt.plot(xx[i], yy[i], \"ro\")\n",
    "    fig.canvas.draw()\n",
    "    fig.canvas.flush_events()\n",
    "    time.sleep(0.5)\n",
    "plt.ioff()\n",
    "plt.show()"
   ]
  },
  {
   "cell_type": "code",
   "execution_count": null,
   "id": "65f349fb-5360-40d8-a6c8-fb96d1cceeab",
   "metadata": {},
   "outputs": [],
   "source": []
  }
 ],
 "metadata": {
  "kernelspec": {
   "display_name": "Python 3 (ipykernel)",
   "language": "python",
   "name": "python3"
  },
  "language_info": {
   "codemirror_mode": {
    "name": "ipython",
    "version": 3
   },
   "file_extension": ".py",
   "mimetype": "text/x-python",
   "name": "python",
   "nbconvert_exporter": "python",
   "pygments_lexer": "ipython3",
   "version": "3.12.4"
  }
 },
 "nbformat": 4,
 "nbformat_minor": 5
}
